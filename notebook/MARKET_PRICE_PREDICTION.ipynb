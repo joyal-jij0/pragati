{
 "cells": [
  {
   "cell_type": "code",
   "execution_count": 20,
   "id": "7ab72a9c",
   "metadata": {},
   "outputs": [],
   "source": [
    "import numpy as np \n",
    "import pandas as pd \n",
    "import matplotlib.pyplot as plt \n",
    "import seaborn as sns \n",
    "import joblib\n",
    "\n",
    "from sklearn.metrics import mean_squared_error, mean_absolute_error, r2_score \n",
    "from sklearn.neighbors import KNeighborsRegressor \n",
    "from sklearn.tree import DecisionTreeRegressor \n",
    "from sklearn.ensemble import RandomForestRegressor, AdaBoostRegressor \n",
    "from sklearn.svm import SVR \n",
    "from sklearn.linear_model import LinearRegression, Ridge, Lasso \n",
    "from sklearn.model_selection import RandomizedSearchCV \n",
    "from catboost import CatBoostRegressor \n",
    "from xgboost import XGBRegressor \n",
    "from sklearn.preprocessing import StandardScaler, OneHotEncoder \n",
    "from sklearn.compose import ColumnTransformer\n",
    "from sklearn.pipeline import Pipeline\n",
    "from sklearn.model_selection import train_test_split\n",
    "from math import sqrt "
   ]
  },
  {
   "cell_type": "code",
   "execution_count": 3,
   "id": "4f1e39e8",
   "metadata": {},
   "outputs": [
    {
     "name": "stdout",
     "output_type": "stream",
     "text": [
      "<class 'pandas.core.frame.DataFrame'>\n",
      "RangeIndex: 23093 entries, 0 to 23092\n",
      "Data columns (total 10 columns):\n",
      " #   Column        Non-Null Count  Dtype         \n",
      "---  ------        --------------  -----         \n",
      " 0   State         23093 non-null  object        \n",
      " 1   District      23093 non-null  object        \n",
      " 2   Market        23093 non-null  object        \n",
      " 3   Commodity     23093 non-null  object        \n",
      " 4   Variety       23093 non-null  object        \n",
      " 5   Grade         23093 non-null  object        \n",
      " 6   Arrival_Date  23093 non-null  datetime64[ns]\n",
      " 7   Min Price     23093 non-null  float64       \n",
      " 8   Max Price     23093 non-null  float64       \n",
      " 9   Modal Price   23093 non-null  float64       \n",
      "dtypes: datetime64[ns](1), float64(3), object(6)\n",
      "memory usage: 1.8+ MB\n"
     ]
    },
    {
     "data": {
      "text/plain": [
       "(None,\n",
       "      State District    Market              Commodity      Variety Grade  \\\n",
       " 0  Gujarat   Amreli  Damnagar  Bhindi(Ladies Finger)       Bhindi   FAQ   \n",
       " 1  Gujarat   Amreli  Damnagar                Brinjal        Other   FAQ   \n",
       " 2  Gujarat   Amreli  Damnagar                Cabbage      Cabbage   FAQ   \n",
       " 3  Gujarat   Amreli  Damnagar            Cauliflower  Cauliflower   FAQ   \n",
       " 4  Gujarat   Amreli  Damnagar      Coriander(Leaves)    Coriander   FAQ   \n",
       " \n",
       "   Arrival_Date  Min Price  Max Price  Modal Price  \n",
       " 0   2023-07-27     4100.0     4500.0       4350.0  \n",
       " 1   2023-07-27     2200.0     3000.0       2450.0  \n",
       " 2   2023-07-27     2350.0     3000.0       2700.0  \n",
       " 3   2023-07-27     7000.0     7500.0       7250.0  \n",
       " 4   2023-07-27     8400.0     9000.0       8850.0  )"
      ]
     },
     "execution_count": 3,
     "metadata": {},
     "output_type": "execute_result"
    }
   ],
   "source": [
    "df = pd.read_csv('data/Price_Agriculture_commodities_Week.csv', parse_dates=['Arrival_Date'], dayfirst=True) \n",
    "df.info(), df.head()"
   ]
  },
  {
   "cell_type": "code",
   "execution_count": 4,
   "id": "1749501d",
   "metadata": {},
   "outputs": [
    {
     "name": "stdout",
     "output_type": "stream",
     "text": [
      "0\n"
     ]
    }
   ],
   "source": [
    "dups = df.duplicated().sum() \n",
    "print(dups)"
   ]
  },
  {
   "cell_type": "code",
   "execution_count": 5,
   "id": "56293d52",
   "metadata": {},
   "outputs": [
    {
     "name": "stdout",
     "output_type": "stream",
     "text": [
      "           Min Price      Max Price    Modal Price\n",
      "count   23093.000000   23093.000000   23093.000000\n",
      "mean     4187.077045    4976.034260    4602.917742\n",
      "std      5472.783385    6277.308057    5843.822711\n",
      "min         0.000000       0.000000       0.830000\n",
      "25%      1750.000000    2000.000000    1955.000000\n",
      "50%      2725.000000    3400.000000    3000.000000\n",
      "75%      5000.000000    6000.000000    5500.000000\n",
      "max    223500.000000  227500.000000  225500.000000\n"
     ]
    }
   ],
   "source": [
    "print(df[['Min Price','Max Price', 'Modal Price']].describe())"
   ]
  },
  {
   "cell_type": "code",
   "execution_count": 6,
   "id": "324517a5",
   "metadata": {},
   "outputs": [
    {
     "name": "stdout",
     "output_type": "stream",
     "text": [
      "State             27\n",
      "District         403\n",
      "Market          1289\n",
      "Commodity        234\n",
      "Variety          452\n",
      "Grade              4\n",
      "Arrival_Date       7\n",
      "Min Price       1793\n",
      "Max Price       2073\n",
      "Modal Price     2071\n",
      "dtype: int64\n",
      "Commodity\n",
      "Potato                   1205\n",
      "Onion                    1134\n",
      "Brinjal                  1033\n",
      "Green Chilli              931\n",
      "Bhindi(Ladies Finger)     860\n",
      "Cucumbar(Kheera)          712\n",
      "Bottle gourd              693\n",
      "Tomato                    671\n",
      "Banana                    669\n",
      "Wheat                     639\n",
      "Name: count, dtype: int64\n"
     ]
    }
   ],
   "source": [
    "print(df.nunique()) \n",
    "print(df['Commodity'].value_counts().head(10))"
   ]
  },
  {
   "cell_type": "code",
   "execution_count": 7,
   "id": "54f9bf8e",
   "metadata": {},
   "outputs": [
    {
     "data": {
      "image/png": "[encoded data removed]",
      "text/plain": [
       "<Figure size 640x480 with 1 Axes>"
      ]
     },
     "metadata": {},
     "output_type": "display_data"
    }
   ],
   "source": [
    "weekly = df.set_index('Arrival_Date')['Modal Price'].resample('W').count() \n",
    "weekly.plot(title='weekly Record Counts') \n",
    "plt.ylabel('Number of observations') \n",
    "plt.show() "
   ]
  },
  {
   "cell_type": "code",
   "execution_count": 8,
   "id": "28bf951c",
   "metadata": {},
   "outputs": [
    {
     "data": {
      "image/png": "[encoded data removed]",
      "text/plain": [
       "<Figure size 640x480 with 1 Axes>"
      ]
     },
     "metadata": {},
     "output_type": "display_data"
    },
    {
     "data": {
      "image/png": "[encoded data removed]",
      "text/plain": [
       "<Figure size 640x480 with 1 Axes>"
      ]
     },
     "metadata": {},
     "output_type": "display_data"
    }
   ],
   "source": [
    "# overall histogram\n",
    "df['Modal Price'].hist(bins=50)\n",
    "plt.title('Modal Price Distribution')\n",
    "plt.xlabel('Price')\n",
    "plt.ylabel('Frequency')\n",
    "plt.show()\n",
    "\n",
    "# boxplot by Commodity (pick top N)\n",
    "top_com = df['Commodity'].value_counts().nlargest(6).index\n",
    "df_box = df[df['Commodity'].isin(top_com)]\n",
    "df_box.boxplot(column='Modal Price', by='Commodity', rot=45)\n",
    "plt.title('Modal Price by Commodity (Top 6)')\n",
    "plt.suptitle('')\n",
    "plt.ylabel('Price')\n",
    "plt.show()\n"
   ]
  },
  {
   "cell_type": "code",
   "execution_count": 9,
   "id": "597cbc01",
   "metadata": {},
   "outputs": [
    {
     "name": "stdout",
     "output_type": "stream",
     "text": [
      "Rows with inconsistent prices: 28\n"
     ]
    }
   ],
   "source": [
    "bad = df[~((df['Min Price'] <= df['Modal Price']) & (df['Modal Price'] <= df['Max Price']))]\n",
    "print(f\"Rows with inconsistent prices: {len(bad)}\")\n",
    "# Investigate or drop these rows"
   ]
  },
  {
   "cell_type": "code",
   "execution_count": 10,
   "id": "a2d9442e",
   "metadata": {},
   "outputs": [
    {
     "name": "stdout",
     "output_type": "stream",
     "text": [
      "Commodities with fewer than 100 records (179 groups):\n",
      " ['Pear(Marasebu)', 'Cluster beans', 'Green Gram (Moong)(Whole)', 'Pineapple', 'Sesamum(Sesame,Gingelly,Til)', 'Little gourd (Kundru)', 'Fish', 'Amaranthus', 'Barley (Jau)', 'Black Gram Dal (Urd Dal)', 'Peas Wet', 'Mustard Oil', 'Plum', 'Coconut', 'Arecanut(Betelnut/Supari)', 'Beans', 'Bengal Gram Dal (Chana Dal)', 'Jack Fruit', 'Amphophalus', 'Tapioca', 'Guava', 'Mango (Raw-Ripe)', 'Corriander seed', 'Tinda', 'Elephant Yam (Suran)', 'Masur Dal', 'White Peas', 'Methi(Leaves)', 'Leafy Vegetable', 'Lime', 'Green Gram Dal (Moong Dal)', 'Ginger(Dry)', 'Sweet Pumpkin', 'Peas(Dry)', 'Chilly Capsicum', 'Onion Green', 'Water Melon', 'Cummin Seed(Jeera)', 'Copra', 'Guar Seed(Cluster Beans Seed)', 'Field Pea', 'Black pepper', 'Papaya (Raw)', 'Squash(Chappal Kadoo)', 'Grapes', 'Turmeric', 'Jute', 'Sweet Potato', 'Methi Seeds', 'Sugar', 'Yam (Ratalu)', 'Dry Chillies', 'Chikoos(Sapota)', 'Wood', 'Orange', 'Knool Khol', 'Peas cod', 'Round gourd', 'Tender Coconut', 'Ground Nut Seed', 'Rubber', 'Mint(Pudina)', 'Green Peas', 'Coconut Oil', 'Indian Beans (Seam)', 'Betal Leaves', 'Mashrooms', 'Kabuli Chana(Chickpeas-White)', 'Coconut Seed', 'Paddy(Dhan)(Basmati)', 'Kartali (Kantola)', 'Ragi (Finger Millet)', 'Amla(Nelli Kai)', 'Kulthi(Horse Gram)', 'Karbuja(Musk Melon)', 'Groundnut (Split)', 'Mahua Seed(Hippe seed)', 'Green Avare (W)', 'Isabgul (Psyllium)', 'Thondekai', 'T.V. Cumbu', 'Groundnut pods (raw)', 'Sunflower', 'Long Melon(Kakri)', 'Firewood', 'Cock', 'Cowpea (Lobia/Karamani)', 'Ajwan', 'Mahua', 'Rajgir', 'Tamarind Fruit', 'Chili Red', 'Linseed', 'Pepper ungarbled', 'Seetapal', 'Tamarind Seed', 'Soanf', 'Lak(Teora)', 'Alsandikai', 'Chow Chow', 'Seemebadnekai', 'Duster Beans', 'Coffee', 'Marigold(Calcutta)', 'Chapparad Avare', 'Bunch Beans', 'Pegeon Pea (Arhar Fali)', 'Nutmeg', 'Taramira', 'Rose(Loose))', 'Hybrid Cumbu', 'Turnip', 'White Pumpkin', 'Mataki', 'Gingelly Oil', 'Goat', 'Safflower', 'Cashewnuts', 'Tobacco', 'Peach', 'Ghee', 'Gram Raw(Chholia)', 'Yam', 'Suva (Dill Seed)', 'Surat Beans (Papadi)', 'Chrysanthemum(Loose)', 'Cow', 'Moath Dal', 'Cocoa', 'Cardamoms', 'Cloves', 'Jamun(Narale Hannu)', 'Marigold(loose)', 'Turmeric (raw)', 'Foxtail Millet(Navane)', 'Litchi', 'Suvarna Gadde', 'Rose(Local)', 'Thinai (Italian Millet)', 'Neem Seed', 'Sabu Dan', 'Green Fodder', 'Wheat Atta', 'Jasmine', 'Ox', 'Kakada', 'Bull', 'Gladiolus Cut Flower', 'Jaffri', 'Jarbara', 'Lilly', 'Lotus', 'He Buffalo', 'Tube Rose(Single)', 'Orchid', 'Patti Calcutta', 'Raibel', 'Tube Rose(Double)', 'Carnation', 'Calf', 'Chrysanthemum', 'Dry Grapes', 'Anthorium', 'Cherry', 'Season Leaves', 'Sheep', 'Custard Apple (Sharifa)', 'Duck', 'Kodo Millet(Varagu)', 'Same/Savi', 'Niger Seed (Ramtil)', 'Resinwood', 'Egg', 'Dry Fodder', 'Alasande Gram', 'Almond(Badam)', 'Cinamon(Dalchini)', 'Broomstick(Flower Broom)', 'She Buffalo']\n"
     ]
    }
   ],
   "source": [
    "# count per Commodity\n",
    "com_counts = df['Commodity'].value_counts()\n",
    "\n",
    "# list those with <10 rows\n",
    "rare_coms = com_counts[com_counts < 100].index.tolist()\n",
    "print(f\"Commodities with fewer than 100 records ({len(rare_coms)} groups):\\n\", rare_coms)\n"
   ]
  },
  {
   "cell_type": "code",
   "execution_count": 11,
   "id": "5b2e5729",
   "metadata": {},
   "outputs": [],
   "source": [
    "df = df[~df['Commodity'].isin(rare_coms)]"
   ]
  },
  {
   "cell_type": "code",
   "execution_count": 12,
   "id": "ddfd6f9a",
   "metadata": {},
   "outputs": [
    {
     "name": "stdout",
     "output_type": "stream",
     "text": [
      "Commodities with fewer than 10 records (0 groups):\n",
      " []\n"
     ]
    }
   ],
   "source": [
    "# count per Commodity\n",
    "com_counts = df['Commodity'].value_counts()\n",
    "\n",
    "# list those with <10 rows\n",
    "rare_coms = com_counts[com_counts < 10].index.tolist()\n",
    "print(f\"Commodities with fewer than 10 records ({len(rare_coms)} groups):\\n\", rare_coms)"
   ]
  },
  {
   "cell_type": "code",
   "execution_count": 13,
   "id": "cd24e82b",
   "metadata": {},
   "outputs": [
    {
     "name": "stdout",
     "output_type": "stream",
     "text": [
      "Number of unique commodities: 55\n",
      "\n",
      "Top commodities by record count:\n",
      " Commodity\n",
      "Potato                   1205\n",
      "Onion                    1134\n",
      "Brinjal                  1033\n",
      "Green Chilli              931\n",
      "Bhindi(Ladies Finger)     860\n",
      "Name: count, dtype: int64\n",
      "Commodity\n",
      "Potato                           1205\n",
      "Onion                            1134\n",
      "Brinjal                          1033\n",
      "Green Chilli                      931\n",
      "Bhindi(Ladies Finger)             860\n",
      "Cucumbar(Kheera)                  712\n",
      "Bottle gourd                      693\n",
      "Tomato                            671\n",
      "Banana                            669\n",
      "Wheat                             639\n",
      "Bitter gourd                      610\n",
      "Pumpkin                           588\n",
      "Cabbage                           531\n",
      "Apple                             488\n",
      "Paddy(Dhan)(Common)               470\n",
      "Cauliflower                       465\n",
      "Rice                              443\n",
      "Bengal Gram(Gram)(Whole)          348\n",
      "Lemon                             325\n",
      "Garlic                            319\n",
      "Mango                             308\n",
      "Mustard                           298\n",
      "Maize                             297\n",
      "Pomegranate                       291\n",
      "Ridgeguard(Tori)                  290\n",
      "Carrot                            280\n",
      "Ginger(Green)                     254\n",
      "Banana - Green                    242\n",
      "Capsicum                          234\n",
      "Mousambi(Sweet Lime)              215\n",
      "Colacasia                         207\n",
      "Papaya                            201\n",
      "Gur(Jaggery)                      201\n",
      "Pointed gourd (Parval)            196\n",
      "Beetroot                          185\n",
      "Bajra(Pearl Millet/Cumbu)         173\n",
      "Raddish                           169\n",
      "Drumstick                         159\n",
      "Coriander(Leaves)                 144\n",
      "Sponge gourd                      143\n",
      "Soyabean                          142\n",
      "Arhar (Tur/Red Gram)(Whole)       139\n",
      "Cowpea(Veg)                       134\n",
      "Arhar Dal(Tur Dal)                130\n",
      "Snakeguard                        128\n",
      "Lentil (Masur)(Whole)             128\n",
      "Spinach                           124\n",
      "French Beans (Frasbean)           121\n",
      "Cotton                            120\n",
      "Groundnut                         119\n",
      "Jowar(Sorghum)                    116\n",
      "Ashgourd                          111\n",
      "Black Gram (Urd Beans)(Whole)     102\n",
      "Castor Seed                       101\n",
      "Guar                              100\n"
     ]
    }
   ],
   "source": [
    "# Number of unique commodities\n",
    "num_unique_commodities = df['Commodity'].nunique()\n",
    "print(f\"Number of unique commodities: {num_unique_commodities}\")\n",
    "\n",
    "# Frequency count of each commodity\n",
    "commodity_counts = df['Commodity'].value_counts()\n",
    "print(\"\\nTop commodities by record count:\\n\", commodity_counts.head())\n",
    "\n",
    "# If you want to display all:\n",
    "print(commodity_counts.to_string())"
   ]
  },
  {
   "cell_type": "code",
   "execution_count": 14,
   "id": "f91bd7fc",
   "metadata": {},
   "outputs": [],
   "source": [
    "df = pd.read_csv(\"data/Price_Agriculture_commodities_Week.csv\", parse_dates=[\"Arrival_Date\"], dayfirst=True)\n",
    "counts = df[\"Commodity\"].value_counts() \n",
    "keep = counts[counts >= 100].index \n",
    "df = df[df[\"Commodity\"].isin(keep)].reset_index(drop=True) "
   ]
  },
  {
   "cell_type": "code",
   "execution_count": 15,
   "id": "8b3db9e6",
   "metadata": {},
   "outputs": [],
   "source": [
    "# 2. Feature engineering: lags, rolling, calendar\n",
    "df = df.sort_values([\"Commodity\", \"Market\", \"Arrival_Date\"])\n",
    "group_cols = [\"Commodity\", \"Market\"]\n",
    "\n",
    "# Prepare a list to track the lag column names\n",
    "lag_cols = []\n",
    "\n",
    "# Create proper lag‑1 columns\n",
    "for col in [\"Modal Price\", \"Min Price\", \"Max Price\"]:\n",
    "    clean = col.replace(\" \", \"\").lower()          # remove the space\n",
    "    lag_name = f\"lag1_{clean}\"\n",
    "    df[lag_name] = df.groupby(group_cols)[col].shift(1)\n",
    "    lag_cols.append(lag_name)\n",
    "\n",
    "# 7‑day rolling mean of modal price up to the previous day\n",
    "df[\"roll7_modal\"] = (\n",
    "    df.groupby(group_cols)[\"Modal Price\"]\n",
    "      .apply(lambda x: x.shift(1).rolling(window=7).mean())\n",
    "      .reset_index(level=group_cols, drop=True)\n",
    ")\n",
    "\n",
    "# Calendar features\n",
    "df[\"year\"]        = df[\"Arrival_Date\"].dt.year\n",
    "df[\"month\"]       = df[\"Arrival_Date\"].dt.month\n",
    "df[\"day_of_week\"] = df[\"Arrival_Date\"].dt.dayofweek\n",
    "\n",
    "# Now drop rows missing any of our engineered features\n",
    "df_model = df.dropna(subset=lag_cols + [\"roll7_modal\"]).copy()\n",
    "\n",
    "# Define target and features\n",
    "target = \"Modal Price\"\n",
    "feature_cols = (\n",
    "    lag_cols +                  # ['lag1_modalprice','lag1_minprice','lag1_maxprice']\n",
    "    [\"roll7_modal\",\"year\",\"month\",\"day_of_week\",\"Commodity\",\"Market\"]\n",
    ")\n",
    "\n",
    "X = df_model[feature_cols]\n",
    "y = df_model[target]\n",
    "\n",
    "# Then you can split, build pipelines, etc.\n",
    "from sklearn.model_selection import train_test_split\n",
    "X_train, X_test, y_train, y_test = train_test_split(\n",
    "    X, y, test_size=0.2, shuffle=False\n",
    ")\n"
   ]
  },
  {
   "cell_type": "code",
   "execution_count": 16,
   "id": "67422f2b",
   "metadata": {},
   "outputs": [],
   "source": [
    "numeric_feats = lag_cols + [\"roll7_modal\", \"year\", \"month\", \"day_of_week\"]\n",
    "cat_feats     = [\"Commodity\", \"Market\"]\n",
    "preprocessor = ColumnTransformer([\n",
    "    (\"num\", StandardScaler(), numeric_feats),\n",
    "    (\"cat\", OneHotEncoder(handle_unknown=\"ignore\", sparse_output=False), cat_feats)\n",
    "])"
   ]
  },
  {
   "cell_type": "code",
   "execution_count": 17,
   "id": "ecf35a8d",
   "metadata": {},
   "outputs": [
    {
     "name": "stderr",
     "output_type": "stream",
     "text": [
      "/Users/joyaljijo/Developer/pragati/notebook/.venv/lib/python3.11/site-packages/sklearn/model_selection/_search.py:317: UserWarning: The total space of parameters 4 is smaller than n_iter=10. Running 4 iterations. For exhaustive searches, use GridSearchCV.\n",
      "  warnings.warn(\n",
      "/Users/joyaljijo/Developer/pragati/notebook/.venv/lib/python3.11/site-packages/sklearn/model_selection/_search.py:317: UserWarning: The total space of parameters 6 is smaller than n_iter=10. Running 6 iterations. For exhaustive searches, use GridSearchCV.\n",
      "  warnings.warn(\n",
      "/Users/joyaljijo/Developer/pragati/notebook/.venv/lib/python3.11/site-packages/sklearn/model_selection/_search.py:317: UserWarning: The total space of parameters 6 is smaller than n_iter=10. Running 6 iterations. For exhaustive searches, use GridSearchCV.\n",
      "  warnings.warn(\n",
      "/Users/joyaljijo/Developer/pragati/notebook/.venv/lib/python3.11/site-packages/sklearn/model_selection/_search.py:317: UserWarning: The total space of parameters 1 is smaller than n_iter=10. Running 1 iterations. For exhaustive searches, use GridSearchCV.\n",
      "  warnings.warn(\n",
      "/Users/joyaljijo/Developer/pragati/notebook/.venv/lib/python3.11/site-packages/sklearn/model_selection/_search.py:317: UserWarning: The total space of parameters 4 is smaller than n_iter=10. Running 4 iterations. For exhaustive searches, use GridSearchCV.\n",
      "  warnings.warn(\n",
      "/Users/joyaljijo/Developer/pragati/notebook/.venv/lib/python3.11/site-packages/sklearn/model_selection/_search.py:317: UserWarning: The total space of parameters 4 is smaller than n_iter=10. Running 4 iterations. For exhaustive searches, use GridSearchCV.\n",
      "  warnings.warn(\n",
      "/Users/joyaljijo/Developer/pragati/notebook/.venv/lib/python3.11/site-packages/sklearn/linear_model/_coordinate_descent.py:695: ConvergenceWarning: Objective did not converge. You might want to increase the number of iterations, check the scale of the features or consider increasing regularisation. Duality gap: 5.917e+07, tolerance: 2.395e+04\n",
      "  model = cd_fast.enet_coordinate_descent(\n",
      "/Users/joyaljijo/Developer/pragati/notebook/.venv/lib/python3.11/site-packages/sklearn/linear_model/_coordinate_descent.py:695: ConvergenceWarning: Objective did not converge. You might want to increase the number of iterations, check the scale of the features or consider increasing regularisation. Duality gap: 5.735e+07, tolerance: 2.359e+04\n",
      "  model = cd_fast.enet_coordinate_descent(\n",
      "/Users/joyaljijo/Developer/pragati/notebook/.venv/lib/python3.11/site-packages/sklearn/linear_model/_coordinate_descent.py:695: ConvergenceWarning: Objective did not converge. You might want to increase the number of iterations, check the scale of the features or consider increasing regularisation. Duality gap: 2.795e+07, tolerance: 2.359e+04\n",
      "  model = cd_fast.enet_coordinate_descent(\n",
      "/Users/joyaljijo/Developer/pragati/notebook/.venv/lib/python3.11/site-packages/sklearn/linear_model/_coordinate_descent.py:695: ConvergenceWarning: Objective did not converge. You might want to increase the number of iterations, check the scale of the features or consider increasing regularisation. Duality gap: 1.152e+07, tolerance: 2.203e+04\n",
      "  model = cd_fast.enet_coordinate_descent(\n",
      "/Users/joyaljijo/Developer/pragati/notebook/.venv/lib/python3.11/site-packages/sklearn/linear_model/_coordinate_descent.py:695: ConvergenceWarning: Objective did not converge. You might want to increase the number of iterations, check the scale of the features or consider increasing regularisation. Duality gap: 5.134e+07, tolerance: 2.395e+04\n",
      "  model = cd_fast.enet_coordinate_descent(\n",
      "/Users/joyaljijo/Developer/pragati/notebook/.venv/lib/python3.11/site-packages/sklearn/linear_model/_coordinate_descent.py:695: ConvergenceWarning: Objective did not converge. You might want to increase the number of iterations, check the scale of the features or consider increasing regularisation. Duality gap: 2.955e+06, tolerance: 2.203e+04\n",
      "  model = cd_fast.enet_coordinate_descent(\n",
      "/Users/joyaljijo/Developer/pragati/notebook/.venv/lib/python3.11/site-packages/sklearn/linear_model/_coordinate_descent.py:695: ConvergenceWarning: Objective did not converge. You might want to increase the number of iterations, check the scale of the features or consider increasing regularisation. Duality gap: 1.727e+06, tolerance: 2.359e+04\n",
      "  model = cd_fast.enet_coordinate_descent(\n",
      "/Users/joyaljijo/Developer/pragati/notebook/.venv/lib/python3.11/site-packages/sklearn/linear_model/_coordinate_descent.py:695: ConvergenceWarning: Objective did not converge. You might want to increase the number of iterations, check the scale of the features or consider increasing regularisation. Duality gap: 4.088e+04, tolerance: 2.203e+04\n",
      "  model = cd_fast.enet_coordinate_descent(\n",
      "/Users/joyaljijo/Developer/pragati/notebook/.venv/lib/python3.11/site-packages/sklearn/linear_model/_coordinate_descent.py:695: ConvergenceWarning: Objective did not converge. You might want to increase the number of iterations, check the scale of the features or consider increasing regularisation. Duality gap: 5.196e+05, tolerance: 2.395e+04\n",
      "  model = cd_fast.enet_coordinate_descent(\n",
      "/Users/joyaljijo/Developer/pragati/notebook/.venv/lib/python3.11/site-packages/sklearn/linear_model/_coordinate_descent.py:695: ConvergenceWarning: Objective did not converge. You might want to increase the number of iterations, check the scale of the features or consider increasing regularisation. Duality gap: 1.770e+07, tolerance: 2.395e+04\n",
      "  model = cd_fast.enet_coordinate_descent(\n",
      "/Users/joyaljijo/Developer/pragati/notebook/.venv/lib/python3.11/site-packages/sklearn/linear_model/_coordinate_descent.py:695: ConvergenceWarning: Objective did not converge. You might want to increase the number of iterations, check the scale of the features or consider increasing regularisation. Duality gap: 4.116e+04, tolerance: 2.359e+04\n",
      "  model = cd_fast.enet_coordinate_descent(\n",
      "/Users/joyaljijo/Developer/pragati/notebook/.venv/lib/python3.11/site-packages/sklearn/linear_model/_coordinate_descent.py:695: ConvergenceWarning: Objective did not converge. You might want to increase the number of iterations, check the scale of the features or consider increasing regularisation. Duality gap: 1.228e+07, tolerance: 3.507e+04\n",
      "  model = cd_fast.enet_coordinate_descent(\n",
      "/Users/joyaljijo/Developer/pragati/notebook/.venv/lib/python3.11/site-packages/sklearn/model_selection/_search.py:317: UserWarning: The total space of parameters 8 is smaller than n_iter=10. Running 8 iterations. For exhaustive searches, use GridSearchCV.\n",
      "  warnings.warn(\n"
     ]
    },
    {
     "name": "stdout",
     "output_type": "stream",
     "text": [
      "          Model                                        Best_Params  \\\n",
      "0       XGBoost  {'reg__n_estimators': 200, 'reg__max_depth': 3...   \n",
      "1  RandomForest  {'reg__n_estimators': 200, 'reg__min_samples_l...   \n",
      "2      AdaBoost  {'reg__n_estimators': 100, 'reg__learning_rate...   \n",
      "3      CatBoost  {'reg__learning_rate': 0.05, 'reg__iterations'...   \n",
      "4  DecisionTree  {'reg__min_samples_leaf': 10, 'reg__max_depth'...   \n",
      "5           KNN                            {'reg__n_neighbors': 9}   \n",
      "6         Ridge                                 {'reg__alpha': 10}   \n",
      "7           SVR  {'reg__kernel': 'rbf', 'reg__gamma': 'scale', ...   \n",
      "8         Lasso                               {'reg__alpha': 0.01}   \n",
      "9        Linear                                                 {}   \n",
      "\n",
      "     Test_RMSE     Test_MAE    Test_R2  \n",
      "0   591.718564   470.838569   0.456091  \n",
      "1   684.806976   534.292346   0.271495  \n",
      "2   705.417599   502.620951   0.226984  \n",
      "3   757.197326   565.848721   0.109335  \n",
      "4   940.692587   755.783502  -0.374648  \n",
      "5  1085.236152   972.950617  -0.829552  \n",
      "6  1273.815047  1142.217167  -1.520629  \n",
      "7  1534.211225  1413.332910  -2.656508  \n",
      "8  3080.939950  2377.747126 -13.745607  \n",
      "9  4370.805166  3311.820581 -28.676937  \n",
      "          Model                                        Best_Params  \\\n",
      "0       XGBoost  {'reg__n_estimators': 200, 'reg__max_depth': 3...   \n",
      "1  RandomForest  {'reg__n_estimators': 200, 'reg__min_samples_l...   \n",
      "2      AdaBoost  {'reg__n_estimators': 100, 'reg__learning_rate...   \n",
      "3      CatBoost  {'reg__learning_rate': 0.05, 'reg__iterations'...   \n",
      "4  DecisionTree  {'reg__min_samples_leaf': 10, 'reg__max_depth'...   \n",
      "5           KNN                            {'reg__n_neighbors': 9}   \n",
      "6         Ridge                                 {'reg__alpha': 10}   \n",
      "7           SVR  {'reg__kernel': 'rbf', 'reg__gamma': 'scale', ...   \n",
      "8         Lasso                               {'reg__alpha': 0.01}   \n",
      "9        Linear                                                 {}   \n",
      "\n",
      "     Test_RMSE     Test_MAE    Test_R2  \n",
      "0   591.718564   470.838569   0.456091  \n",
      "1   684.806976   534.292346   0.271495  \n",
      "2   705.417599   502.620951   0.226984  \n",
      "3   757.197326   565.848721   0.109335  \n",
      "4   940.692587   755.783502  -0.374648  \n",
      "5  1085.236152   972.950617  -0.829552  \n",
      "6  1273.815047  1142.217167  -1.520629  \n",
      "7  1534.211225  1413.332910  -2.656508  \n",
      "8  3080.939950  2377.747126 -13.745607  \n",
      "9  4370.805166  3311.820581 -28.676937  \n"
     ]
    }
   ],
   "source": [
    "models = {\n",
    "    \"KNN\": (\n",
    "        KNeighborsRegressor(),\n",
    "        {\"reg__n_neighbors\": [3, 5, 7, 9]}\n",
    "    ),\n",
    "    \"DecisionTree\": (\n",
    "        DecisionTreeRegressor(random_state=42),\n",
    "        {\"reg__max_depth\": [None, 5, 10, 20],\n",
    "         \"reg__min_samples_leaf\": [1, 5, 10]}\n",
    "    ),\n",
    "    \"RandomForest\": (\n",
    "        RandomForestRegressor(random_state=42, n_jobs=-1),\n",
    "        {\"reg__n_estimators\": [100, 200],\n",
    "         \"reg__max_depth\": [None, 10, 20],\n",
    "         \"reg__min_samples_leaf\": [1, 5]}\n",
    "    ),\n",
    "    \"AdaBoost\": (\n",
    "        AdaBoostRegressor(random_state=42),\n",
    "        {\"reg__n_estimators\": [50, 100],\n",
    "         \"reg__learning_rate\": [0.01, 0.1, 1]}\n",
    "    ),\n",
    "    \"SVR\": (\n",
    "        SVR(),\n",
    "        {\"reg__C\": [0.1, 1, 10],\n",
    "         \"reg__gamma\": [\"scale\", \"auto\"],\n",
    "         \"reg__kernel\": [\"rbf\"]}\n",
    "    ),\n",
    "    \"Linear\": (\n",
    "        LinearRegression(),\n",
    "        {}\n",
    "    ),\n",
    "    \"Ridge\": (\n",
    "        Ridge(random_state=42),\n",
    "        {\"reg__alpha\": [0.1, 1, 10, 50]}\n",
    "    ),\n",
    "    \"Lasso\": (\n",
    "        Lasso(random_state=42, max_iter=5000),\n",
    "        {\"reg__alpha\": [0.001, 0.01, 0.1, 1]}\n",
    "    ),\n",
    "    \"XGBoost\": (\n",
    "        XGBRegressor(random_state=42, n_jobs=-1),\n",
    "        {\"reg__n_estimators\": [100, 200],\n",
    "         \"reg__learning_rate\": [0.01, 0.05, 0.1],\n",
    "         \"reg__max_depth\": [3, 6, 10]}\n",
    "    ),\n",
    "    \"CatBoost\": (\n",
    "        CatBoostRegressor(random_seed=42, silent=True),\n",
    "        {\"reg__iterations\": [200, 500],\n",
    "         \"reg__depth\": [4, 6],\n",
    "         \"reg__learning_rate\": [0.05, 0.1]}\n",
    "    ),\n",
    "}\n",
    "\n",
    "results = []\n",
    "best_overall = {\"rmse\": np.inf, \"model\": None, \"name\": None}\n",
    "\n",
    "for name, (est, param_grid) in models.items():\n",
    "    pipe = Pipeline([(\"pre\", preprocessor), (\"reg\", est)])\n",
    "    search = RandomizedSearchCV(\n",
    "        pipe,\n",
    "        param_distributions=param_grid,\n",
    "        n_iter=10,\n",
    "        cv=3,\n",
    "        scoring=\"neg_root_mean_squared_error\",\n",
    "        n_jobs=-1,\n",
    "        random_state=42\n",
    "    )\n",
    "    search.fit(X_train, y_train)\n",
    "\n",
    "    best_pipe = search.best_estimator_\n",
    "    preds = best_pipe.predict(X_test)\n",
    "    rmse = sqrt(mean_squared_error(y_test, preds))\n",
    "    mae  = mean_absolute_error(y_test, preds)\n",
    "    r2   = r2_score(y_test, preds)\n",
    "\n",
    "    results.append({\n",
    "        \"Model\": name,\n",
    "        \"Best_Params\": search.best_params_,\n",
    "        \"Test_RMSE\": rmse,\n",
    "        \"Test_MAE\": mae,\n",
    "        \"Test_R2\": r2\n",
    "    })\n",
    "\n",
    "    if rmse < best_overall[\"rmse\"]:\n",
    "        best_overall = {\"rmse\": rmse, \"model\": best_pipe, \"name\": name}\n",
    "\n",
    "\n",
    "results_df = pd.DataFrame(results).sort_values(\"Test_RMSE\").reset_index(drop=True)\n",
    "print(results_df)\n",
    "\n",
    "results_df = pd.DataFrame(results).sort_values(\"Test_RMSE\").reset_index(drop=True)\n",
    "print(results_df)"
   ]
  },
  {
   "cell_type": "code",
   "execution_count": null,
   "id": "e9c73723",
   "metadata": {},
   "outputs": [
    {
     "name": "stdout",
     "output_type": "stream",
     "text": [
      "Best model: XGBoost with RMSE=591.72\n"
     ]
    }
   ],
   "source": [
    "best_model = best_overall['model'] \n",
    "print(f\"Best model: {best_overall['name']} with RMSE={best_overall['rmse']:.2f}\")\n"
   ]
  },
  {
   "cell_type": "code",
   "execution_count": 21,
   "id": "d75f2b17",
   "metadata": {},
   "outputs": [
    {
     "data": {
      "text/plain": [
       "['market_price_model.pkl']"
      ]
     },
     "execution_count": 21,
     "metadata": {},
     "output_type": "execute_result"
    }
   ],
   "source": [
    "joblib.dump(best_model, 'market_price_model.pkl') "
   ]
  },
  {
   "cell_type": "code",
   "execution_count": null,
   "id": "a1cdc6b5",
   "metadata": {},
   "outputs": [],
   "source": []
  }
 ],
 "metadata": {
  "kernelspec": {
   "display_name": ".venv",
   "language": "python",
   "name": "python3"
  },
  "language_info": {
   "codemirror_mode": {
    "name": "ipython",
    "version": 3
   },
   "file_extension": ".py",
   "mimetype": "text/x-python",
   "name": "python",
   "nbconvert_exporter": "python",
   "pygments_lexer": "ipython3",
   "version": "3.11.12"
  }
 },
 "nbformat": 4,
 "nbformat_minor": 5
}
