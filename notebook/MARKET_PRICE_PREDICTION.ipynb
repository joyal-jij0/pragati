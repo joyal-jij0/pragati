{
 "cells": [
  {
   "cell_type": "code",
   "execution_count": 1,
   "id": "7ab72a9c",
   "metadata": {},
   "outputs": [],
   "source": [
    "import numpy as np \n",
    "import pandas as pd \n",
    "import matplotlib.pyplot as plt \n",
    "import seaborn as sns \n",
    "import joblib\n",
    "\n",
    "from sklearn.metrics import mean_squared_error, mean_absolute_error, r2_score \n",
    "from sklearn.neighbors import KNeighborsRegressor \n",
    "from sklearn.tree import DecisionTreeRegressor \n",
    "from sklearn.ensemble import RandomForestRegressor, AdaBoostRegressor \n",
    "from sklearn.svm import SVR \n",
    "from sklearn.linear_model import LinearRegression, Ridge, Lasso \n",
    "from sklearn.model_selection import RandomizedSearchCV \n",
    "from catboost import CatBoostRegressor \n",
    "from xgboost import XGBRegressor \n",
    "from sklearn.preprocessing import StandardScaler, OneHotEncoder \n",
    "from sklearn.compose import ColumnTransformer\n",
    "from sklearn.pipeline import Pipeline\n",
    "from sklearn.model_selection import train_test_split\n",
    "from math import sqrt "
   ]
  },
  {
   "cell_type": "code",
   "execution_count": 2,
   "id": "4f1e39e8",
   "metadata": {},
   "outputs": [
    {
     "name": "stdout",
     "output_type": "stream",
     "text": [
      "<class 'pandas.core.frame.DataFrame'>\n",
      "RangeIndex: 18524 entries, 0 to 18523\n",
      "Data columns (total 10 columns):\n",
      " #   Column        Non-Null Count  Dtype         \n",
      "---  ------        --------------  -----         \n",
      " 0   State         18524 non-null  object        \n",
      " 1   District      18524 non-null  object        \n",
      " 2   Market        18524 non-null  object        \n",
      " 3   Commodity     18524 non-null  object        \n",
      " 4   Variety       18524 non-null  object        \n",
      " 5   Grade         18524 non-null  object        \n",
      " 6   Arrival_Date  18524 non-null  datetime64[ns]\n",
      " 7   Min Price     18524 non-null  float64       \n",
      " 8   Max Price     18524 non-null  float64       \n",
      " 9   Modal Price   18524 non-null  float64       \n",
      "dtypes: datetime64[ns](1), float64(3), object(6)\n",
      "memory usage: 1.4+ MB\n"
     ]
    },
    {
     "data": {
      "text/plain": [
       "(None,\n",
       "             State   District           Market       Commodity         Variety  \\\n",
       " 0  Andhra Pradesh  Anantapur         Hindupur  Tamarind Fruit  Non A/c Flower   \n",
       " 1  Andhra Pradesh    Chittor         Kalikiri          Tomato          Hybrid   \n",
       " 2  Andhra Pradesh    Chittor      Madanapalli          Tomato           Local   \n",
       " 3  Andhra Pradesh    Chittor  Mulakalacheruvu          Tomato           Local   \n",
       " 4  Andhra Pradesh    Chittor       Vayalapadu          Tomato          Hybrid   \n",
       " \n",
       "   Grade Arrival_Date  Min Price  Max Price  Modal Price  \n",
       " 0   FAQ   2025-04-24     4100.0    12800.0       8000.0  \n",
       " 1   FAQ   2025-04-24      800.0     1000.0        930.0  \n",
       " 2   FAQ   2025-04-24     1000.0     1200.0       1100.0  \n",
       " 3   FAQ   2025-04-24      900.0     1100.0       1000.0  \n",
       " 4   FAQ   2025-04-24      920.0     1120.0       1040.0  )"
      ]
     },
     "execution_count": 2,
     "metadata": {},
     "output_type": "execute_result"
    }
   ],
   "source": [
    "df = pd.read_csv('data/market_data.csv', parse_dates=['Arrival_Date'], dayfirst=True) \n",
    "df.info(), df.head()"
   ]
  },
  {
   "cell_type": "code",
   "execution_count": 3,
   "id": "1749501d",
   "metadata": {},
   "outputs": [
    {
     "name": "stdout",
     "output_type": "stream",
     "text": [
      "0\n"
     ]
    }
   ],
   "source": [
    "dups = df.duplicated().sum() \n",
    "print(dups)"
   ]
  },
  {
   "cell_type": "code",
   "execution_count": 4,
   "id": "56293d52",
   "metadata": {},
   "outputs": [
    {
     "name": "stdout",
     "output_type": "stream",
     "text": [
      "           Min Price      Max Price    Modal Price\n",
      "count   18524.000000   18524.000000   18524.000000\n",
      "mean     3705.916444    4372.394443    4169.146708\n",
      "std      4211.137959    5150.700922    4763.529213\n",
      "min         0.000000       0.000000       3.000000\n",
      "25%      1600.000000    2000.000000    2000.000000\n",
      "50%      2600.000000    3000.000000    3000.000000\n",
      "75%      4500.000000    5400.000000    5010.000000\n",
      "max    140000.000000  225000.000000  182500.000000\n"
     ]
    }
   ],
   "source": [
    "print(df[['Min Price','Max Price', 'Modal Price']].describe())"
   ]
  },
  {
   "cell_type": "code",
   "execution_count": 5,
   "id": "324517a5",
   "metadata": {},
   "outputs": [
    {
     "name": "stdout",
     "output_type": "stream",
     "text": [
      "State             27\n",
      "District         440\n",
      "Market          1482\n",
      "Commodity        213\n",
      "Variety          453\n",
      "Grade              6\n",
      "Arrival_Date       1\n",
      "Min Price       1514\n",
      "Max Price       1864\n",
      "Modal Price     1792\n",
      "dtype: int64\n",
      "Commodity\n",
      "Wheat                    768\n",
      "Onion                    680\n",
      "Tomato                   659\n",
      "Potato                   640\n",
      "Brinjal                  574\n",
      "Green Chilli             539\n",
      "Banana                   475\n",
      "Bhindi(Ladies Finger)    461\n",
      "Bottle gourd             443\n",
      "Bitter gourd             411\n",
      "Name: count, dtype: int64\n"
     ]
    }
   ],
   "source": [
    "print(df.nunique()) \n",
    "print(df['Commodity'].value_counts().head(10))"
   ]
  },
  {
   "cell_type": "code",
   "execution_count": 7,
   "id": "54f9bf8e",
   "metadata": {},
   "outputs": [
    {
     "name": "stderr",
     "output_type": "stream",
     "text": [
      "/Users/joyaljijo/Developer/pragati/notebook/.venv/lib/python3.11/site-packages/pandas/plotting/_matplotlib/core.py:1567: UserWarning: Attempting to set identical low and high xlims makes transformation singular; automatically expanding.\n",
      "  ax.set_xlim(left, right)\n"
     ]
    },
    {
     "data": {
      "image/png": "[encoded data removed]",
      "text/plain": [
       "<Figure size 640x480 with 1 Axes>"
      ]
     },
     "metadata": {},
     "output_type": "display_data"
    }
   ],
   "source": [
    "weekly = df.set_index('Arrival_Date')['Modal Price'].resample('W').count() \n",
    "weekly.plot(title='weekly Record Counts') \n",
    "plt.ylabel('Number of observations') \n",
    "plt.show() "
   ]
  },
  {
   "cell_type": "code",
   "execution_count": 8,
   "id": "28bf951c",
   "metadata": {},
   "outputs": [
    {
     "data": {
      "image/png": "[encoded data removed]",
      "text/plain": [
       "<Figure size 640x480 with 1 Axes>"
      ]
     },
     "metadata": {},
     "output_type": "display_data"
    },
    {
     "data": {
      "image/png": "[encoded data removed]",
      "text/plain": [
       "<Figure size 640x480 with 1 Axes>"
      ]
     },
     "metadata": {},
     "output_type": "display_data"
    }
   ],
   "source": [
    "# overall histogram\n",
    "df['Modal Price'].hist(bins=50)\n",
    "plt.title('Modal Price Distribution')\n",
    "plt.xlabel('Price')\n",
    "plt.ylabel('Frequency')\n",
    "plt.show()\n",
    "\n",
    "# boxplot by Commodity (pick top N)\n",
    "top_com = df['Commodity'].value_counts().nlargest(6).index\n",
    "df_box = df[df['Commodity'].isin(top_com)]\n",
    "df_box.boxplot(column='Modal Price', by='Commodity', rot=45)\n",
    "plt.title('Modal Price by Commodity (Top 6)')\n",
    "plt.suptitle('')\n",
    "plt.ylabel('Price')\n",
    "plt.show()\n"
   ]
  },
  {
   "cell_type": "code",
   "execution_count": 9,
   "id": "597cbc01",
   "metadata": {},
   "outputs": [
    {
     "name": "stdout",
     "output_type": "stream",
     "text": [
      "Rows with inconsistent prices: 20\n"
     ]
    }
   ],
   "source": [
    "bad = df[~((df['Min Price'] <= df['Modal Price']) & (df['Modal Price'] <= df['Max Price']))]\n",
    "print(f\"Rows with inconsistent prices: {len(bad)}\")\n",
    "# Investigate or drop these rows"
   ]
  },
  {
   "cell_type": "code",
   "execution_count": 10,
   "id": "a2d9442e",
   "metadata": {},
   "outputs": [
    {
     "name": "stdout",
     "output_type": "stream",
     "text": [
      "Commodities with fewer than 100 records (154 groups):\n",
      " ['Sweet Potato', 'Thondekai', 'Gur(Jaggery)', 'Yam (Ratalu)', 'Orange', 'Bajra(Pearl Millet/Cumbu)', 'Knool Khol', 'Amla(Nelli Kai)', 'Spinach', 'Lime', 'Tender Coconut', 'Castor Seed', 'Green Peas', 'Pointed gourd (Parval)', 'Pineapple', 'Jowar(Sorghum)', 'Arhar Dal(Tur Dal)', 'French Beans (Frasbean)', 'Mashrooms', 'Cotton', 'Black Gram (Urd Beans)(Whole)', 'Barley (Jau)', 'Jack Fruit', 'Tamarind Fruit', 'Guar', 'Cummin Seed(Jeera)', 'Peas Wet', 'Green Gram Dal (Moong Dal)', 'Fish', 'Kabuli Chana(Chickpeas-White)', 'Sweet Pumpkin', 'Black Gram Dal (Urd Dal)', 'Sponge gourd', 'Corriander seed', 'Little gourd (Kundru)', 'Methi Seeds', 'Ginger(Dry)', 'Marigold(Calcutta)', 'Bengal Gram Dal (Chana Dal)', 'Mustard Oil', 'Green Gram (Moong)(Whole)', 'Masur Dal', 'Rose(Local)', 'Tinda', 'Arecanut(Betelnut/Supari)', 'Indian Beans (Seam)', 'Sesamum(Sesame,Gingelly,Til)', 'Methi(Leaves)', 'Jasmine', 'White Peas', 'Soanf', 'Betal Leaves', 'Amphophalus', 'Chilly Capsicum', 'Turmeric', 'Dry Chillies', 'Squash(Chappal Kadoo)', 'Isabgul (Psyllium)', 'Long Melon(Kakri)', 'Linseed', 'Ajwan', 'Turnip', 'Chili Red', 'Peas cod', 'Field Pea', 'Cowpea (Lobia/Karamani)', 'Tube Rose(Loose)', 'Jute', 'Suva (Dill Seed)', 'Coconut Seed', 'Round gourd', 'Black pepper', 'Lak(Teora)', 'buttery', 'Paddy(Dhan)(Basmati)', 'Wood', 'Kakada', 'Tube Flower', 'Guar Seed(Cluster Beans Seed)', 'Rajgir', 'Peas(Dry)', 'Mahua', 'Taramira', 'Sugar', 'Kulthi(Horse Gram)', 'Papaya (Raw)', 'Cock', 'Leafy Vegetable', 'Rubber', 'Ground Nut Seed', 'Kinnow', 'Coffee', 'Cashewnuts', 'Coconut Oil', 'Ragi (Finger Millet)', 'Copra', 'Rose(Loose))', 'Pegeon Pea (Arhar Fali)', 'Moath Dal', 'Mataki', 'Ashwagandha', 'Marigold(loose)', 'Bunch Beans', 'Fig(Anjura/Anjeer)', 'Groundnut pods (raw)', 'Custard Apple (Sharifa)', 'Jaee', 'Ber(Zizyphus/Borehannu)', 'Pepper ungarbled', 'Sunflower', 'Tobacco', 'Asalia', 'Seemebadnekai', 'Safflower', 'Firewood', 'Pear(Marasebu)', 'Peach', 'Duster Beans', 'Rayee', 'Kodo Millet(Varagu)', 'Alsandikai', 'Foxtail Millet(Navane)', 'Other green and fresh vegetables', 'mango powder', 'Pepper garbled', 'Ghee', 'Lotus Sticks', 'Same/Savi', 'Jarbara', 'White Pumpkin', 'Astera', 'Cow', 'Kankambra', 'Gram Raw(Chholia)', 'Lukad', 'Kutki', 'Cinamon(Dalchini)', 'Cardamoms', 'Almond(Badam)', 'Plum', 'Carnation', 'Gladiolus Cut Flower', 'Lilly', 'Kartali (Kantola)', 'Suvarna Gadde', 'Surat Beans (Papadi)', 'Turmeric (raw)', 'Indian Colza(Sarson)', 'Hen', 'Season Leaves', 'Millets', 'Groundnut (Split)', 'Chrysanthemum(Loose)', 'Mahedi']\n"
     ]
    }
   ],
   "source": [
    "# count per Commodity\n",
    "com_counts = df['Commodity'].value_counts()\n",
    "\n",
    "# list those with <10 rows\n",
    "rare_coms = com_counts[com_counts < 100].index.tolist()\n",
    "print(f\"Commodities with fewer than 100 records ({len(rare_coms)} groups):\\n\", rare_coms)\n"
   ]
  },
  {
   "cell_type": "code",
   "execution_count": 11,
   "id": "5b2e5729",
   "metadata": {},
   "outputs": [],
   "source": [
    "df = df[~df['Commodity'].isin(rare_coms)]"
   ]
  },
  {
   "cell_type": "code",
   "execution_count": 12,
   "id": "ddfd6f9a",
   "metadata": {},
   "outputs": [
    {
     "name": "stdout",
     "output_type": "stream",
     "text": [
      "Commodities with fewer than 10 records (0 groups):\n",
      " []\n"
     ]
    }
   ],
   "source": [
    "# count per Commodity\n",
    "com_counts = df['Commodity'].value_counts()\n",
    "\n",
    "# list those with <10 rows\n",
    "rare_coms = com_counts[com_counts < 10].index.tolist()\n",
    "print(f\"Commodities with fewer than 10 records ({len(rare_coms)} groups):\\n\", rare_coms)"
   ]
  },
  {
   "cell_type": "code",
   "execution_count": 13,
   "id": "cd24e82b",
   "metadata": {},
   "outputs": [
    {
     "name": "stdout",
     "output_type": "stream",
     "text": [
      "Number of unique commodities: 59\n",
      "\n",
      "Top commodities by record count:\n",
      " Commodity\n",
      "Wheat      768\n",
      "Onion      680\n",
      "Tomato     659\n",
      "Potato     640\n",
      "Brinjal    574\n",
      "Name: count, dtype: int64\n",
      "Commodity\n",
      "Wheat                          768\n",
      "Onion                          680\n",
      "Tomato                         659\n",
      "Potato                         640\n",
      "Brinjal                        574\n",
      "Green Chilli                   539\n",
      "Banana                         475\n",
      "Bhindi(Ladies Finger)          461\n",
      "Bottle gourd                   443\n",
      "Bitter gourd                   411\n",
      "Pumpkin                        392\n",
      "Cabbage                        391\n",
      "Cauliflower                    380\n",
      "Cucumbar(Kheera)               369\n",
      "Ginger(Green)                  335\n",
      "Bengal Gram(Gram)(Whole)       302\n",
      "Lemon                          299\n",
      "Carrot                         278\n",
      "Banana - Green                 262\n",
      "Raddish                        259\n",
      "Garlic                         253\n",
      "Coriander(Leaves)              247\n",
      "Papaya                         237\n",
      "Maize                          230\n",
      "Apple                          228\n",
      "Paddy(Dhan)(Common)            224\n",
      "Mustard                        221\n",
      "Ridgeguard(Tori)               218\n",
      "Snakeguard                     218\n",
      "Drumstick                      217\n",
      "Beetroot                       212\n",
      "Capsicum                       207\n",
      "Amaranthus                     204\n",
      "Coconut                        186\n",
      "Water Melon                    185\n",
      "Cluster beans                  185\n",
      "Ashgourd                       182\n",
      "Rice                           182\n",
      "Mango (Raw-Ripe)               176\n",
      "Onion Green                    172\n",
      "Mint(Pudina)                   168\n",
      "Soyabean                       165\n",
      "Mango                          163\n",
      "Pomegranate                    160\n",
      "Green Avare (W)                158\n",
      "Beans                          156\n",
      "Grapes                         135\n",
      "Mousambi(Sweet Lime)           133\n",
      "Chikoos(Sapota)                130\n",
      "Guava                          129\n",
      "Chow Chow                      123\n",
      "Karbuja(Musk Melon)            121\n",
      "Elephant Yam (Suran)           117\n",
      "Arhar (Tur/Red Gram)(Whole)    115\n",
      "Groundnut                      104\n",
      "Tapioca                        104\n",
      "Colacasia                      103\n",
      "Cowpea(Veg)                    103\n",
      "Lentil (Masur)(Whole)          102\n"
     ]
    }
   ],
   "source": [
    "# Number of unique commodities\n",
    "num_unique_commodities = df['Commodity'].nunique()\n",
    "print(f\"Number of unique commodities: {num_unique_commodities}\")\n",
    "\n",
    "# Frequency count of each commodity\n",
    "commodity_counts = df['Commodity'].value_counts()\n",
    "print(\"\\nTop commodities by record count:\\n\", commodity_counts.head())\n",
    "\n",
    "# If you want to display all:\n",
    "print(commodity_counts.to_string())"
   ]
  },
  {
   "cell_type": "code",
   "execution_count": 14,
   "id": "f91bd7fc",
   "metadata": {},
   "outputs": [],
   "source": [
    "df = pd.read_csv(\"data/market_data.csv\", parse_dates=[\"Arrival_Date\"], dayfirst=True)\n",
    "counts = df[\"Commodity\"].value_counts() \n",
    "keep = counts[counts >= 100].index \n",
    "df = df[df[\"Commodity\"].isin(keep)].reset_index(drop=True) "
   ]
  },
  {
   "cell_type": "code",
   "execution_count": 15,
   "id": "8b3db9e6",
   "metadata": {},
   "outputs": [],
   "source": [
    "# 2. Feature engineering: lags, rolling, calendar\n",
    "df = df.sort_values([\"Commodity\", \"Market\", \"Arrival_Date\"])\n",
    "group_cols = [\"Commodity\", \"Market\"]\n",
    "\n",
    "# Prepare a list to track the lag column names\n",
    "lag_cols = []\n",
    "\n",
    "# Create proper lag‑1 columns\n",
    "for col in [\"Modal Price\", \"Min Price\", \"Max Price\"]:\n",
    "    clean = col.replace(\" \", \"\").lower()          # remove the space\n",
    "    lag_name = f\"lag1_{clean}\"\n",
    "    df[lag_name] = df.groupby(group_cols)[col].shift(1)\n",
    "    lag_cols.append(lag_name)\n",
    "\n",
    "# 7‑day rolling mean of modal price up to the previous day\n",
    "df[\"roll7_modal\"] = (\n",
    "    df.groupby(group_cols)[\"Modal Price\"]\n",
    "      .apply(lambda x: x.shift(1).rolling(window=7).mean())\n",
    "      .reset_index(level=group_cols, drop=True)\n",
    ")\n",
    "\n",
    "# Calendar features\n",
    "df[\"year\"]        = df[\"Arrival_Date\"].dt.year\n",
    "df[\"month\"]       = df[\"Arrival_Date\"].dt.month\n",
    "df[\"day_of_week\"] = df[\"Arrival_Date\"].dt.dayofweek\n",
    "\n",
    "# Now drop rows missing any of our engineered features\n",
    "df_model = df.dropna(subset=lag_cols + [\"roll7_modal\"]).copy()\n",
    "\n",
    "# Define target and features\n",
    "target = \"Modal Price\"\n",
    "feature_cols = (\n",
    "    lag_cols +                  # ['lag1_modalprice','lag1_minprice','lag1_maxprice']\n",
    "    [\"roll7_modal\",\"year\",\"month\",\"day_of_week\",\"Commodity\",\"Market\"]\n",
    ")\n",
    "\n",
    "X = df_model[feature_cols]\n",
    "y = df_model[target]\n",
    "\n",
    "# Then you can split, build pipelines, etc.\n",
    "from sklearn.model_selection import train_test_split\n",
    "X_train, X_test, y_train, y_test = train_test_split(\n",
    "    X, y, test_size=0.2, shuffle=False\n",
    ")\n"
   ]
  },
  {
   "cell_type": "code",
   "execution_count": 16,
   "id": "67422f2b",
   "metadata": {},
   "outputs": [],
   "source": [
    "numeric_feats = lag_cols + [\"roll7_modal\", \"year\", \"month\", \"day_of_week\"]\n",
    "cat_feats     = [\"Commodity\", \"Market\"]\n",
    "preprocessor = ColumnTransformer([\n",
    "    (\"num\", StandardScaler(), numeric_feats),\n",
    "    (\"cat\", OneHotEncoder(handle_unknown=\"ignore\", sparse_output=False), cat_feats)\n",
    "])"
   ]
  },
  {
   "cell_type": "code",
   "execution_count": 26,
   "id": "ecf35a8d",
   "metadata": {},
   "outputs": [
    {
     "name": "stderr",
     "output_type": "stream",
     "text": [
      "/Users/joyaljijo/Developer/pragati/notebook/.venv/lib/python3.11/site-packages/sklearn/linear_model/_coordinate_descent.py:695: ConvergenceWarning: Objective did not converge. You might want to increase the number of iterations, check the scale of the features or consider increasing regularisation. Duality gap: 8.239e+02, tolerance: 2.252e+02\n",
      "  model = cd_fast.enet_coordinate_descent(\n",
      "/Users/joyaljijo/Developer/pragati/notebook/.venv/lib/python3.11/site-packages/sklearn/linear_model/_coordinate_descent.py:695: ConvergenceWarning: Objective did not converge. You might want to increase the number of iterations, check the scale of the features or consider increasing regularisation. Duality gap: 1.846e+06, tolerance: 6.068e+02\n",
      "  model = cd_fast.enet_coordinate_descent(\n",
      "/Users/joyaljijo/Developer/pragati/notebook/.venv/lib/python3.11/site-packages/sklearn/linear_model/_coordinate_descent.py:695: ConvergenceWarning: Objective did not converge. You might want to increase the number of iterations, check the scale of the features or consider increasing regularisation. Duality gap: 1.489e+06, tolerance: 6.068e+02\n",
      "  model = cd_fast.enet_coordinate_descent(\n",
      "/Users/joyaljijo/Developer/pragati/notebook/.venv/lib/python3.11/site-packages/sklearn/linear_model/_coordinate_descent.py:695: ConvergenceWarning: Objective did not converge. You might want to increase the number of iterations, check the scale of the features or consider increasing regularisation. Duality gap: 1.217e+03, tolerance: 2.252e+02\n",
      "  model = cd_fast.enet_coordinate_descent(\n"
     ]
    },
    {
     "name": "stdout",
     "output_type": "stream",
     "text": [
      "          Model                                        Best_Params  \\\n",
      "0  DecisionTree  {'reg__min_samples_leaf': 5, 'reg__max_depth':...   \n",
      "1  RandomForest  {'reg__n_estimators': 100, 'reg__min_samples_l...   \n",
      "2           SVR  {'reg__kernel': 'rbf', 'reg__gamma': 'scale', ...   \n",
      "3           KNN                            {'reg__n_neighbors': 5}   \n",
      "4       XGBoost  {'reg__n_estimators': 100, 'reg__max_depth': 3...   \n",
      "5      CatBoost  {'reg__learning_rate': 0.05, 'reg__iterations'...   \n",
      "6      AdaBoost  {'reg__n_estimators': 50, 'reg__learning_rate'...   \n",
      "7         Ridge                                  {'reg__alpha': 1}   \n",
      "8        Linear                                                 {}   \n",
      "9         Lasso                                 {'reg__alpha': 10}   \n",
      "\n",
      "     Test_RMSE     Test_MAE   Test_R2  \n",
      "0  3492.156390  3000.000000 -0.355017  \n",
      "1  3497.414054  3000.000000 -0.359101  \n",
      "2  3530.326291  3001.961471 -0.384800  \n",
      "3  3616.683564  3000.000000 -0.453378  \n",
      "4  3859.976623  3000.000000 -0.655491  \n",
      "5  4237.174364  3161.820835 -0.994850  \n",
      "6  4601.086828  3400.000000 -1.352222  \n",
      "7  5345.994252  4681.247806 -2.175517  \n",
      "8  5513.471525  4864.660593 -2.377596  \n",
      "9  5626.542405  5024.445914 -2.517553  \n",
      "          Model                                        Best_Params  \\\n",
      "0  DecisionTree  {'reg__min_samples_leaf': 5, 'reg__max_depth':...   \n",
      "1  RandomForest  {'reg__n_estimators': 100, 'reg__min_samples_l...   \n",
      "2           SVR  {'reg__kernel': 'rbf', 'reg__gamma': 'scale', ...   \n",
      "3           KNN                            {'reg__n_neighbors': 5}   \n",
      "4       XGBoost  {'reg__n_estimators': 100, 'reg__max_depth': 3...   \n",
      "5      CatBoost  {'reg__learning_rate': 0.05, 'reg__iterations'...   \n",
      "6      AdaBoost  {'reg__n_estimators': 50, 'reg__learning_rate'...   \n",
      "7         Ridge                                  {'reg__alpha': 1}   \n",
      "8        Linear                                                 {}   \n",
      "9         Lasso                                 {'reg__alpha': 10}   \n",
      "\n",
      "     Test_RMSE     Test_MAE   Test_R2  \n",
      "0  3492.156390  3000.000000 -0.355017  \n",
      "1  3497.414054  3000.000000 -0.359101  \n",
      "2  3530.326291  3001.961471 -0.384800  \n",
      "3  3616.683564  3000.000000 -0.453378  \n",
      "4  3859.976623  3000.000000 -0.655491  \n",
      "5  4237.174364  3161.820835 -0.994850  \n",
      "6  4601.086828  3400.000000 -1.352222  \n",
      "7  5345.994252  4681.247806 -2.175517  \n",
      "8  5513.471525  4864.660593 -2.377596  \n",
      "9  5626.542405  5024.445914 -2.517553  \n"
     ]
    }
   ],
   "source": [
    "import itertools \n",
    "\n",
    "def get_param_space_size(param_grid):\n",
    "    if not param_grid: \n",
    "        return 1 \n",
    "    sizes = [] \n",
    "    for v in param_grid.values():\n",
    "        if isinstance(v, list):\n",
    "            sizes.append(len(v)) \n",
    "        else: \n",
    "            sizes.append(1) \n",
    "    return np.prod(sizes)\n",
    "\n",
    "models = {\n",
    "    \"KNN\": (\n",
    "        KNeighborsRegressor(),\n",
    "        {\"reg__n_neighbors\": [1, 3, 5]}\n",
    "    ),\n",
    "    \"DecisionTree\": (\n",
    "        DecisionTreeRegressor(random_state=42),\n",
    "        {\"reg__max_depth\": [None, 5, 10, 20],\n",
    "         \"reg__min_samples_leaf\": [1, 5, 10]}\n",
    "    ),\n",
    "    \"RandomForest\": (\n",
    "        RandomForestRegressor(random_state=42, n_jobs=-1),\n",
    "        {\"reg__n_estimators\": [100, 200],\n",
    "         \"reg__max_depth\": [None, 10, 20],\n",
    "         \"reg__min_samples_leaf\": [1, 5]}\n",
    "    ),\n",
    "    \"AdaBoost\": (\n",
    "        AdaBoostRegressor(random_state=42),\n",
    "        {\"reg__n_estimators\": [50, 100],\n",
    "         \"reg__learning_rate\": [0.01, 0.1, 1]}\n",
    "    ),\n",
    "    \"SVR\": (\n",
    "        SVR(),\n",
    "        {\"reg__C\": [0.1, 1, 10],\n",
    "         \"reg__gamma\": [\"scale\", \"auto\"],\n",
    "         \"reg__kernel\": [\"rbf\"]}\n",
    "    ),\n",
    "    \"Linear\": (\n",
    "        LinearRegression(),\n",
    "        {}\n",
    "    ),\n",
    "    \"Ridge\": (\n",
    "        Ridge(random_state=42, max_iter=50000),\n",
    "        {\"reg__alpha\": [0.1, 1, 10, 50]}\n",
    "    ),\n",
    "    \"Lasso\": (\n",
    "        Lasso(random_state=42, max_iter=50000),\n",
    "        {\"reg__alpha\": [0.01, 0.1, 1, 10]}\n",
    "    ),\n",
    "    \"XGBoost\": (\n",
    "        XGBRegressor(random_state=42, n_jobs=-1),\n",
    "        {\"reg__n_estimators\": [100, 200],\n",
    "         \"reg__learning_rate\": [0.01, 0.05, 0.1],\n",
    "         \"reg__max_depth\": [3, 6, 10]}\n",
    "    ),\n",
    "    \"CatBoost\": (\n",
    "        CatBoostRegressor(random_seed=42, silent=True),\n",
    "        {\"reg__iterations\": [200, 500],\n",
    "         \"reg__depth\": [4, 6],\n",
    "         \"reg__learning_rate\": [0.05, 0.1]}\n",
    "    ),\n",
    "}\n",
    "\n",
    "results = []\n",
    "best_overall = {\"rmse\": np.inf, \"model\": None, \"name\": None}\n",
    "\n",
    "for name, (est, param_grid) in models.items():\n",
    "    pipe = Pipeline([(\"pre\", preprocessor), (\"reg\", est)])\n",
    "    param_space_size = get_param_space_size(param_grid)\n",
    "    n_iter = min(10, param_space_size)\n",
    "    search = RandomizedSearchCV(\n",
    "        pipe,\n",
    "        param_distributions=param_grid,\n",
    "        n_iter=n_iter,\n",
    "        cv=3,\n",
    "        scoring=\"neg_root_mean_squared_error\",\n",
    "        n_jobs=-1,\n",
    "        random_state=42\n",
    "    )\n",
    "    search.fit(X_train, y_train)\n",
    "\n",
    "    best_pipe = search.best_estimator_\n",
    "    preds = best_pipe.predict(X_test)\n",
    "    rmse = sqrt(mean_squared_error(y_test, preds))\n",
    "    mae  = mean_absolute_error(y_test, preds)\n",
    "    r2   = r2_score(y_test, preds)\n",
    "\n",
    "    results.append({\n",
    "        \"Model\": name,\n",
    "        \"Best_Params\": search.best_params_,\n",
    "        \"Test_RMSE\": rmse,\n",
    "        \"Test_MAE\": mae,\n",
    "        \"Test_R2\": r2\n",
    "    })\n",
    "\n",
    "    if rmse < best_overall[\"rmse\"]:\n",
    "        best_overall = {\"rmse\": rmse, \"model\": best_pipe, \"name\": name}\n",
    "\n",
    "\n",
    "results_df = pd.DataFrame(results).sort_values(\"Test_RMSE\").reset_index(drop=True)\n",
    "print(results_df)\n",
    "\n",
    "results_df = pd.DataFrame(results).sort_values(\"Test_RMSE\").reset_index(drop=True)\n",
    "print(results_df)"
   ]
  },
  {
   "cell_type": "code",
   "execution_count": 25,
   "id": "e9c73723",
   "metadata": {},
   "outputs": [
    {
     "name": "stdout",
     "output_type": "stream",
     "text": [
      "Best model: DecisionTree with RMSE=3492.16\n"
     ]
    }
   ],
   "source": [
    "best_model = best_overall['model'] \n",
    "print(f\"Best model: {best_overall['name']} with RMSE={best_overall['rmse']:.2f}\")\n"
   ]
  },
  {
   "cell_type": "code",
   "execution_count": null,
   "id": "d75f2b17",
   "metadata": {},
   "outputs": [],
   "source": [
    "joblib.dump(best_model, 'market_price_model.pkl') "
   ]
  },
  {
   "cell_type": "code",
   "execution_count": null,
   "id": "a1cdc6b5",
   "metadata": {},
   "outputs": [],
   "source": [
    "import time\n",
    "from datetime import datetime, timedelta\n",
    "\n",
    "import pandas as pd\n",
    "from bs4 import BeautifulSoup\n",
    "from selenium import webdriver\n",
    "from selenium.webdriver.common.by import By\n",
    "from selenium.webdriver.support.ui import Select"
   ]
  },
  {
   "cell_type": "code",
   "execution_count": null,
   "id": "91f33978",
   "metadata": {},
   "outputs": [],
   "source": [
    "from bs4 import BeautifulSoup\n",
    "from selenium import webdriver\n",
    "import time\n",
    "\n",
    "driver = webdriver.Chrome()         # uses Selenium Manager to auto‑fetch ChromeDriver \n",
    "driver.get(\"https://enam.gov.in/web/dashboard/trade-data\")\n",
    "time.sleep(5)                       # give the JS a moment to render\n",
    "\n",
    "soup = BeautifulSoup(driver.page_source, \"html.parser\")\n",
    "for sel in soup.find_all(\"select\"):\n",
    "    print({\n",
    "        \"id\": sel.get(\"id\"),\n",
    "        \"name\": sel.get(\"name\"),\n",
    "        \"class\": sel.get(\"class\"),\n",
    "        \"first_option\": sel.find(\"option\").text.strip()\n",
    "    })\n",
    "\n",
    "driver.quit()\n"
   ]
  },
  {
   "cell_type": "code",
   "execution_count": null,
   "id": "fba7a094",
   "metadata": {},
   "outputs": [],
   "source": [
    "import time\n",
    "from datetime import datetime, timedelta\n",
    "\n",
    "import pandas as pd\n",
    "from bs4 import BeautifulSoup\n",
    "from selenium import webdriver\n",
    "from selenium.webdriver.common.by import By\n",
    "from selenium.webdriver.support.ui import WebDriverWait, Select\n",
    "from selenium.webdriver.support import expected_conditions as EC\n",
    "\n",
    "def fetch_enam_trade_data(commodity, state, target_date, days=7, timeout=15):\n",
    "    \"\"\"\n",
    "    Scrape e-NAM Trade Details for the last `days` up to `target_date`,\n",
    "    selecting only State and Commodity. Handles common variations in button/table IDs.\n",
    "    Returns a DataFrame with ['Arrival_Date','Min Price','Modal Price','Max Price'].\n",
    "    \"\"\"\n",
    "    # 1) compute date strings\n",
    "    end_dt   = pd.to_datetime(target_date)\n",
    "    start_dt = end_dt - timedelta(days=days)\n",
    "    from_str = start_dt.strftime(\"%d-%b-%Y\")\n",
    "    to_str   = end_dt.strftime(\"%d-%b-%Y\")\n",
    "\n",
    "    # 2) launch Chrome via Selenium Manager\n",
    "    driver = webdriver.Chrome()\n",
    "    driver.maximize_window()\n",
    "    driver.get(\"https://enam.gov.in/web/dashboard/trade-data\")\n",
    "    wait = WebDriverWait(driver, timeout)\n",
    "\n",
    "    # 3) select State (new ID)\n",
    "    state_sel = wait.until(\n",
    "        EC.presence_of_element_located((By.ID, \"min_max_state\"))\n",
    "    )\n",
    "    Select(state_sel).select_by_visible_text(state)\n",
    "\n",
    "    # 4) select Commodity (new ID)\n",
    "    comm_sel = wait.until(\n",
    "        EC.presence_of_element_located((By.ID, \"min_max_commodity\"))\n",
    "    )\n",
    "    Select(comm_sel).select_by_visible_text(commodity)\n",
    "\n",
    "    # 5) fill dates\n",
    "    from_in = wait.until(\n",
    "        EC.presence_of_element_located((By.ID, \"txtFromDate\"))\n",
    "    )\n",
    "    to_in = driver.find_element(By.ID, \"txtToDate\")\n",
    "    from_in.clear(); from_in.send_keys(from_str)\n",
    "    to_in.clear();   to_in.send_keys(to_str)\n",
    "\n",
    "    # 6) click the “Get Data” / “Search” button (try common IDs)\n",
    "    for btn_id in (\"btnGetData\", \"btnSearch\", \"min_max_submit\"):\n",
    "        try:\n",
    "            btn = driver.find_element(By.ID, btn_id)\n",
    "            btn.click()\n",
    "            break\n",
    "        except:\n",
    "            continue\n",
    "    else:\n",
    "        raise RuntimeError(\"Could not find any known submit button\")\n",
    "\n",
    "    # 7) wait for the results table to appear (try common IDs)\n",
    "    table_id_candidates = [\"tblTradeData\", \"trade-data-table\", \"tblTradeDetails\"]\n",
    "    table_elem = None\n",
    "    for tid in table_id_candidates:\n",
    "        try:\n",
    "            table_elem = wait.until(EC.presence_of_element_located((By.ID, tid)))\n",
    "            break\n",
    "        except:\n",
    "            continue\n",
    "    if table_elem is None:\n",
    "        raise RuntimeError(\"Trade-data table did not appear\")\n",
    "\n",
    "    # 8) parse HTML\n",
    "    soup = BeautifulSoup(driver.page_source, \"html.parser\")\n",
    "    driver.quit()\n",
    "\n",
    "    # 9) extract rows\n",
    "    table = soup.find(\"table\", id=table_elem.get_attribute(\"id\"))\n",
    "    headers = [th.get_text(strip=True) for th in table.find_all(\"th\")]\n",
    "    rows = []\n",
    "    for tr in table.find_all(\"tr\")[1:]:\n",
    "        cols = [td.get_text(strip=True) for td in tr.find_all(\"td\")]\n",
    "        if cols:\n",
    "            rows.append(cols)\n",
    "\n",
    "    # 10) build DataFrame\n",
    "    df = pd.DataFrame(rows, columns=headers)\n",
    "    df.rename(columns={\"Date\":\"Arrival_Date\"}, inplace=True)\n",
    "    df[\"Arrival_Date\"] = pd.to_datetime(df[\"Arrival_Date\"], dayfirst=True)\n",
    "    for col in [\"Min Price\",\"Modal Price\",\"Max Price\"]:\n",
    "        df[col] = df[col].str.replace(\",\", \"\").astype(float)\n",
    "\n",
    "    return df\n",
    "\n",
    "\n",
    "\n",
    "hist = fetch_enam_trade_data(\n",
    "    commodity=\"WHEAT\",\n",
    "    state=\"HARYANA\",\n",
    "    target_date=\"2025-04-22\",\n",
    "    days=6\n",
    ")\n",
    "print(hist)\n",
    "    # Now: compute your lag1_*/roll7_modal features and feed into your model.\n"
   ]
  },
  {
   "cell_type": "code",
   "execution_count": null,
   "id": "d0aaf912",
   "metadata": {},
   "outputs": [],
   "source": []
  }
 ],
 "metadata": {
  "kernelspec": {
   "display_name": ".venv",
   "language": "python",
   "name": "python3"
  },
  "language_info": {
   "codemirror_mode": {
    "name": "ipython",
    "version": 3
   },
   "file_extension": ".py",
   "mimetype": "text/x-python",
   "name": "python",
   "nbconvert_exporter": "python",
   "pygments_lexer": "ipython3",
   "version": "3.11.12"
  }
 },
 "nbformat": 4,
 "nbformat_minor": 5
}
