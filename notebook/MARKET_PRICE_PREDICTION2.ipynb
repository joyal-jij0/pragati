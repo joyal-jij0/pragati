{
 "cells": [
  {
   "cell_type": "code",
   "execution_count": 1,
   "id": "838fd553",
   "metadata": {},
   "outputs": [],
   "source": [
    "import numpy as np\n",
    "import pandas as pd\n",
    "import joblib\n",
    "from math import sqrt\n",
    "import matplotlib.pyplot as plt\n",
    "import seaborn as sns\n",
    "from sklearn.model_selection import train_test_split, RandomizedSearchCV\n",
    "from sklearn.pipeline import Pipeline\n",
    "from sklearn.compose import ColumnTransformer\n",
    "from sklearn.preprocessing import OneHotEncoder, StandardScaler\n",
    "from sklearn.metrics import mean_squared_error, mean_absolute_error, r2_score\n",
    "from sklearn.neighbors import KNeighborsRegressor\n",
    "from sklearn.tree import DecisionTreeRegressor\n",
    "from sklearn.ensemble import RandomForestRegressor, AdaBoostRegressor\n",
    "from sklearn.svm import SVR\n",
    "from sklearn.linear_model import LinearRegression, Ridge, Lasso\n",
    "from xgboost import XGBRegressor\n",
    "from catboost import CatBoostRegressor"
   ]
  },
  {
   "cell_type": "code",
   "execution_count": 2,
   "id": "1c184365",
   "metadata": {},
   "outputs": [],
   "source": [
    "df = pd.read_csv(\"data/market_data.csv\", parse_dates=[\"Arrival_Date\"], dayfirst=True)"
   ]
  },
  {
   "cell_type": "code",
   "execution_count": 3,
   "id": "f8237c73",
   "metadata": {},
   "outputs": [],
   "source": [
    "df[\"year\"]        = df[\"Arrival_Date\"].dt.year\n",
    "df[\"month\"]       = df[\"Arrival_Date\"].dt.month\n",
    "df[\"day_of_week\"] = df[\"Arrival_Date\"].dt.dayofweek\n",
    "df[\"day_of_month\"]= df[\"Arrival_Date\"].dt.day"
   ]
  },
  {
   "cell_type": "code",
   "execution_count": 4,
   "id": "f14dccde",
   "metadata": {},
   "outputs": [],
   "source": [
    "feature_cols = [\n",
    "    \"year\", \"month\", \"day_of_week\", \"day_of_month\",\n",
    "    \"State\", \"District\", \"Commodity\", \"Variety\", \"Grade\"\n",
    "]\n",
    "X = df[feature_cols]\n",
    "y = df[\"Modal Price\"]\n"
   ]
  },
  {
   "cell_type": "code",
   "execution_count": 5,
   "id": "014f6dc0",
   "metadata": {},
   "outputs": [],
   "source": [
    "X_train, X_test, y_train, y_test = train_test_split(\n",
    "    X, y, test_size=0.2, random_state=42, shuffle=True\n",
    ")"
   ]
  },
  {
   "cell_type": "code",
   "execution_count": 6,
   "id": "0255af1b",
   "metadata": {},
   "outputs": [],
   "source": [
    "numeric_feats = [\"year\", \"month\", \"day_of_week\", \"day_of_month\"]\n",
    "cat_feats     = [\"State\", \"District\", \"Commodity\", \"Variety\", \"Grade\"]"
   ]
  },
  {
   "cell_type": "code",
   "execution_count": 7,
   "id": "393f3522",
   "metadata": {},
   "outputs": [],
   "source": [
    "preprocessor = ColumnTransformer([\n",
    "    (\"num\", StandardScaler(), numeric_feats),\n",
    "    (\"cat\", OneHotEncoder(handle_unknown=\"ignore\", sparse_output=False), cat_feats),\n",
    "])"
   ]
  },
  {
   "cell_type": "code",
   "execution_count": 8,
   "id": "e6dca377",
   "metadata": {},
   "outputs": [],
   "source": [
    "models = {\n",
    "    \"KNN\": (\n",
    "        KNeighborsRegressor(),\n",
    "        {\"reg__n_neighbors\": [3,5,7,9,11]}\n",
    "    ),\n",
    "    \"DecisionTree\": (\n",
    "        DecisionTreeRegressor(random_state=42),\n",
    "        {\"reg__max_depth\": [None,5,10,20], \"reg__min_samples_leaf\": [1,5,10]}\n",
    "    ),\n",
    "    \"RandomForest\": (\n",
    "        RandomForestRegressor(random_state=42, n_jobs=-1),\n",
    "        {\"reg__n_estimators\": [100,200], \"reg__max_depth\": [None,10,20], \"reg__min_samples_leaf\": [1,5]}\n",
    "    ),\n",
    "    \"AdaBoost\": (\n",
    "        AdaBoostRegressor(random_state=42),\n",
    "        {\"reg__n_estimators\": [50,100,200], \"reg__learning_rate\": [0.01,0.1,1]}\n",
    "    ),\n",
    "    \"SVR\": (\n",
    "        SVR(),\n",
    "        {\"reg__C\": [0.1,1,10], \"reg__gamma\": [\"scale\",\"auto\"], \"reg__kernel\": [\"rbf\"]}\n",
    "    ),\n",
    "    \"Linear\": (\n",
    "        LinearRegression(),\n",
    "        {}\n",
    "    ),\n",
    "    \"Ridge\": (\n",
    "        Ridge(random_state=42),\n",
    "        {\"reg__alpha\": [0.1,1,10,50]}\n",
    "    ),\n",
    "    \"Lasso\": (\n",
    "        Lasso(random_state=42, max_iter=5000),\n",
    "        {\"reg__alpha\": [0.001,0.01,0.1,1]}\n",
    "    ),\n",
    "    \"XGBoost\": (\n",
    "        XGBRegressor(random_state=42, n_jobs=-1),\n",
    "        {\"reg__n_estimators\": [100,200], \"reg__learning_rate\": [0.01,0.05,0.1], \"reg__max_depth\": [3,6,10]}\n",
    "    ),\n",
    "    \"CatBoost\": (\n",
    "        CatBoostRegressor(random_seed=42, silent=True),\n",
    "        {\"reg__iterations\": [200,500], \"reg__depth\": [4,6,8], \"reg__learning_rate\": [0.05,0.1]}\n",
    "    ),\n",
    "}\n"
   ]
  },
  {
   "cell_type": "code",
   "execution_count": 9,
   "id": "81ae9db6",
   "metadata": {},
   "outputs": [],
   "source": [
    "results = []\n",
    "best_rmse = np.inf\n",
    "best_model = None\n",
    "best_name = None"
   ]
  },
  {
   "cell_type": "code",
   "execution_count": 10,
   "id": "5d9bcc32",
   "metadata": {},
   "outputs": [
    {
     "name": "stderr",
     "output_type": "stream",
     "text": [
      "/Users/joyaljijo/Developer/pragati/notebook/.venv/lib/python3.11/site-packages/sklearn/model_selection/_search.py:317: UserWarning: The total space of parameters 5 is smaller than n_iter=10. Running 5 iterations. For exhaustive searches, use GridSearchCV.\n",
      "  warnings.warn(\n",
      "/Users/joyaljijo/Developer/pragati/notebook/.venv/lib/python3.11/site-packages/sklearn/model_selection/_search.py:317: UserWarning: The total space of parameters 9 is smaller than n_iter=10. Running 9 iterations. For exhaustive searches, use GridSearchCV.\n",
      "  warnings.warn(\n",
      "/Users/joyaljijo/Developer/pragati/notebook/.venv/lib/python3.11/site-packages/sklearn/model_selection/_search.py:317: UserWarning: The total space of parameters 6 is smaller than n_iter=10. Running 6 iterations. For exhaustive searches, use GridSearchCV.\n",
      "  warnings.warn(\n",
      "/Users/joyaljijo/Developer/pragati/notebook/.venv/lib/python3.11/site-packages/sklearn/model_selection/_search.py:317: UserWarning: The total space of parameters 1 is smaller than n_iter=10. Running 1 iterations. For exhaustive searches, use GridSearchCV.\n",
      "  warnings.warn(\n",
      "/Users/joyaljijo/Developer/pragati/notebook/.venv/lib/python3.11/site-packages/sklearn/model_selection/_search.py:317: UserWarning: The total space of parameters 4 is smaller than n_iter=10. Running 4 iterations. For exhaustive searches, use GridSearchCV.\n",
      "  warnings.warn(\n",
      "/Users/joyaljijo/Developer/pragati/notebook/.venv/lib/python3.11/site-packages/sklearn/model_selection/_search.py:317: UserWarning: The total space of parameters 4 is smaller than n_iter=10. Running 4 iterations. For exhaustive searches, use GridSearchCV.\n",
      "  warnings.warn(\n",
      "/Users/joyaljijo/Developer/pragati/notebook/.venv/lib/python3.11/site-packages/sklearn/linear_model/_coordinate_descent.py:695: ConvergenceWarning: Objective did not converge. You might want to increase the number of iterations, check the scale of the features or consider increasing regularisation. Duality gap: 6.645e+09, tolerance: 2.445e+07\n",
      "  model = cd_fast.enet_coordinate_descent(\n",
      "/Users/joyaljijo/Developer/pragati/notebook/.venv/lib/python3.11/site-packages/sklearn/linear_model/_coordinate_descent.py:695: ConvergenceWarning: Objective did not converge. You might want to increase the number of iterations, check the scale of the features or consider increasing regularisation. Duality gap: 3.535e+09, tolerance: 2.030e+07\n",
      "  model = cd_fast.enet_coordinate_descent(\n",
      "/Users/joyaljijo/Developer/pragati/notebook/.venv/lib/python3.11/site-packages/sklearn/linear_model/_coordinate_descent.py:695: ConvergenceWarning: Objective did not converge. You might want to increase the number of iterations, check the scale of the features or consider increasing regularisation. Duality gap: 9.251e+08, tolerance: 2.030e+07\n",
      "  model = cd_fast.enet_coordinate_descent(\n",
      "/Users/joyaljijo/Developer/pragati/notebook/.venv/lib/python3.11/site-packages/sklearn/linear_model/_coordinate_descent.py:695: ConvergenceWarning: Objective did not converge. You might want to increase the number of iterations, check the scale of the features or consider increasing regularisation. Duality gap: 2.198e+09, tolerance: 2.364e+07\n",
      "  model = cd_fast.enet_coordinate_descent(\n",
      "/Users/joyaljijo/Developer/pragati/notebook/.venv/lib/python3.11/site-packages/sklearn/linear_model/_coordinate_descent.py:695: ConvergenceWarning: Objective did not converge. You might want to increase the number of iterations, check the scale of the features or consider increasing regularisation. Duality gap: 5.478e+09, tolerance: 2.364e+07\n",
      "  model = cd_fast.enet_coordinate_descent(\n"
     ]
    }
   ],
   "source": [
    "for name, (estimator, param_grid) in models.items():\n",
    "    pipe = Pipeline([\n",
    "        (\"pre\", preprocessor),\n",
    "        (\"reg\", estimator)\n",
    "    ])\n",
    "    search = RandomizedSearchCV(\n",
    "        pipe,\n",
    "        param_distributions=param_grid,\n",
    "        n_iter=10,\n",
    "        cv=3,\n",
    "        scoring=\"neg_root_mean_squared_error\",\n",
    "        n_jobs=-1,\n",
    "        random_state=42,\n",
    "        verbose=0\n",
    "    )\n",
    "    search.fit(X_train, y_train)\n",
    "    preds = search.best_estimator_.predict(X_test)\n",
    "    \n",
    "    rmse = sqrt(mean_squared_error(y_test, preds))\n",
    "    mae  = mean_absolute_error(y_test, preds)\n",
    "    r2   = r2_score(y_test, preds)\n",
    "    \n",
    "    results.append({\n",
    "        \"Model\": name,\n",
    "        \"Best_Params\": search.best_params_,\n",
    "        \"Test_RMSE\": rmse,\n",
    "        \"Test_MAE\": mae,\n",
    "        \"Test_R2\": r2 \n",
    "    })\n",
    "    \n",
    "    if rmse < best_rmse:\n",
    "        best_rmse = rmse\n",
    "        best_model = search.best_estimator_\n",
    "        best_name = name"
   ]
  },
  {
   "cell_type": "code",
   "execution_count": 11,
   "id": "1869efff",
   "metadata": {},
   "outputs": [
    {
     "name": "stdout",
     "output_type": "stream",
     "text": [
      "          Model                                        Best_Params  \\\n",
      "0  RandomForest  {'reg__n_estimators': 200, 'reg__min_samples_l...   \n",
      "1         Ridge                                  {'reg__alpha': 1}   \n",
      "2         Lasso                                  {'reg__alpha': 1}   \n",
      "3        Linear                                                 {}   \n",
      "4      CatBoost  {'reg__learning_rate': 0.1, 'reg__iterations':...   \n",
      "5  DecisionTree  {'reg__min_samples_leaf': 1, 'reg__max_depth':...   \n",
      "6       XGBoost  {'reg__n_estimators': 200, 'reg__max_depth': 6...   \n",
      "7           KNN                            {'reg__n_neighbors': 3}   \n",
      "8      AdaBoost  {'reg__n_estimators': 100, 'reg__learning_rate...   \n",
      "9           SVR  {'reg__kernel': 'rbf', 'reg__gamma': 'scale', ...   \n",
      "\n",
      "     Test_RMSE     Test_MAE   Test_R2  \n",
      "0  2382.981529   755.776502  0.731381  \n",
      "1  2409.122979  1010.666334  0.725455  \n",
      "2  2434.287950  1018.008570  0.719690  \n",
      "3  2447.023217  1010.041885  0.716749  \n",
      "4  2449.771835  1058.807126  0.716112  \n",
      "5  2485.676578   810.665988  0.707730  \n",
      "6  2568.038599  1227.312957  0.688040  \n",
      "7  3180.231081  1053.840676  0.521576  \n",
      "8  4320.358499  2535.209352  0.117052  \n",
      "9  4607.483313  2099.666905 -0.004206  \n"
     ]
    }
   ],
   "source": [
    "results_df = pd.DataFrame(results).sort_values(\"Test_RMSE\").reset_index(drop=True)\n",
    "print(results_df)"
   ]
  },
  {
   "cell_type": "code",
   "execution_count": 12,
   "id": "7292089a",
   "metadata": {},
   "outputs": [
    {
     "name": "stdout",
     "output_type": "stream",
     "text": [
      "\n",
      "Best model: RandomForest with RMSE = 2382.98\n"
     ]
    }
   ],
   "source": [
    "print(f\"\\nBest model: {best_name} with RMSE = {best_rmse:.2f}\")"
   ]
  },
  {
   "cell_type": "code",
   "execution_count": 13,
   "id": "1e07dc29",
   "metadata": {},
   "outputs": [
    {
     "data": {
      "text/plain": [
       "['market_price_model.pkl']"
      ]
     },
     "execution_count": 13,
     "metadata": {},
     "output_type": "execute_result"
    }
   ],
   "source": [
    "joblib.dump(best_model, 'market_price_model.pkl') "
   ]
  },
  {
   "cell_type": "code",
   "execution_count": null,
   "id": "f49eb90e",
   "metadata": {},
   "outputs": [],
   "source": []
  },
  {
   "cell_type": "code",
   "execution_count": null,
   "id": "bbb02889",
   "metadata": {},
   "outputs": [],
   "source": []
  },
  {
   "cell_type": "code",
   "execution_count": null,
   "id": "66746927",
   "metadata": {},
   "outputs": [],
   "source": []
  }
 ],
 "metadata": {
  "kernelspec": {
   "display_name": ".venv",
   "language": "python",
   "name": "python3"
  },
  "language_info": {
   "codemirror_mode": {
    "name": "ipython",
    "version": 3
   },
   "file_extension": ".py",
   "mimetype": "text/x-python",
   "name": "python",
   "nbconvert_exporter": "python",
   "pygments_lexer": "ipython3",
   "version": "3.11.12"
  }
 },
 "nbformat": 4,
 "nbformat_minor": 5
}
